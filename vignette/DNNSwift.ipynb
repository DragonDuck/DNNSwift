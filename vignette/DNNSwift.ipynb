{
 "cells": [
  {
   "cell_type": "markdown",
   "metadata": {
    "deletable": true,
    "editable": true
   },
   "source": [
    "# DNNSwift\n",
    "\n",
    "<p align=\"center\" style=\"font-size:22;\">Rapid Prototyping of Deep Convolutional Neural Networks (DNN)</p>"
   ]
  },
  {
   "cell_type": "markdown",
   "metadata": {
    "deletable": true,
    "editable": true
   },
   "source": [
    "## Introduction\n",
    "This python package allows for the rapid training and application of deep neural networks (DNNs). It wraps the Tensorflow package, allowing for easy setup of an architecture without needing to know the nitty-gritty details of how Tensorflow operates.\n",
    "\n",
    "The focus of this package is to train and apply convolutional DNNs (CNN) with images. One-dimensional data could, hypothetically, be treated as a pseudo-image with the dimensions (N x 1 x 1) (spatial, spatial, channels). This should work but is currently untested.\n",
    "\n",
    "This vignette will present a example of how to use the package."
   ]
  },
  {
   "cell_type": "markdown",
   "metadata": {
    "deletable": true,
    "editable": true
   },
   "source": [
    "## Package contents\n",
    "The primary class in the package is the 'DNNWrapper', which is the only class with which an end-user needs to directly interact.\n",
    "\n",
    "- DNNWrapper: A convenience class, which wraps around the interaction of the 'DNN' and 'ImageHandler' classes for the training and application use cases.\n",
    "- DNN: The core class of the package. This class acts as a container for the neural network structure and offers methods for training the network and applying it to individual images.\n",
    "- ImageHandler: This class handles the training data.\n",
    "- Validator: An auxillary class that calculates accuracy metrics."
   ]
  },
  {
   "cell_type": "markdown",
   "metadata": {
    "deletable": true,
    "editable": true
   },
   "source": [
    "## Installing the package\n",
    "The easiest way to install this package is via pip:\n",
    "\n",
    "    pip install dnnSwift\n",
    "\n",
    "Alternatively, you can download the 'dnnSwift' directory of this repository and place it in your python path."
   ]
  },
  {
   "cell_type": "markdown",
   "metadata": {
    "deletable": true,
    "editable": true
   },
   "source": [
    "## Requirements\n",
    "The package was tested to work with Python 2.7.12 and requires several additional python packages to function properly:\n",
    "\n",
    "* tensorflow\n",
    "* time\n",
    "* os\n",
    "* sys\n",
    "* numpy\n",
    "* pickle\n",
    "* pygraphviz\n",
    "* h5py\n",
    "* hashlib\n",
    "\n",
    "All of these packages are either part of the python distribution or can be installed via pip:\n",
    "    \n",
    "    pip install <PACKAGE_NAME>\n",
    "\n",
    "Additionally, the package 'matplotlib' is required in order to run this vignette (but not for the actual package)"
   ]
  },
  {
   "cell_type": "markdown",
   "metadata": {
    "deletable": true,
    "editable": true
   },
   "source": [
    "## Quick start\n",
    "\n",
    "Training data for this package must be stored as a single [HDF5](https://support.hdfgroup.org/HDF5/) file. This repository contains a demo data set, a selection of the [MNIST](http://yann.lecun.com/exdb/mnist/) handwritten digit database for the digits \"0\", \"5\", and \"7\", which shows the expected structure. It can be found in the folder \"demo_data\""
   ]
  },
  {
   "cell_type": "markdown",
   "metadata": {
    "deletable": true,
    "editable": true
   },
   "source": [
    "### Training a Neural network"
   ]
  },
  {
   "cell_type": "code",
   "execution_count": 8,
   "metadata": {
    "collapsed": false,
    "deletable": true,
    "editable": true
   },
   "outputs": [
    {
     "name": "stdout",
     "output_type": "stream",
     "text": [
      "Epoch 0: Accuracy: 0.948333333333\n",
      "Epoch 1: Accuracy: 0.983333333333\n",
      "Epoch 2: Accuracy: 0.985\n",
      "Epoch 3: Accuracy: 0.993333333333\n",
      "Epoch 4: Accuracy: 0.993333333333\n"
     ]
    }
   ],
   "source": [
    "import dnnSwift\n",
    "\n",
    "# The layout is a list of dictionaries defining each layer of the DNN. \n",
    "# For this example, the DNN will consist of two blocks of \n",
    "# \"convolution - convolution - maximum pooling\", followed by a fully \n",
    "# connected layer and finally a cross entropy cost function\n",
    "dnn_layout = [\n",
    "    {\n",
    "        \"name\": \"data\",\n",
    "        \"type\": \"input\"\n",
    "    },\n",
    "    {\n",
    "        \"name\": \"conv1\",\n",
    "        \"type\": \"conv\",\n",
    "        \"n_kernels\": 32,\n",
    "        \"size\": (3, 3),\n",
    "        \"stride\": (1, 1),\n",
    "        \"padding\" : \"VALID\",\n",
    "        \"input\": \"data\"\n",
    "    },\n",
    "    {\n",
    "        \"name\": \"conv2\",\n",
    "        \"type\": \"conv\",\n",
    "        \"n_kernels\": 32,\n",
    "        \"size\": (3, 3),\n",
    "        \"stride\": (1, 1),\n",
    "        \"padding\" : \"VALID\",\n",
    "        \"input\": \"conv1\"\n",
    "    },\n",
    "    {\n",
    "        \"name\": \"maxpool1\",\n",
    "        \"type\": \"maxpool\",\n",
    "        \"size\": (3, 3),\n",
    "        \"stride\": (2, 2),\n",
    "        \"padding\" : \"VALID\",\n",
    "        \"input\": \"conv2\"\n",
    "    },\n",
    "    {\n",
    "        \"name\": \"conv3\",\n",
    "        \"type\": \"conv\",\n",
    "        \"n_kernels\": 64,\n",
    "        \"size\": (3, 3),\n",
    "        \"stride\": (1, 1),\n",
    "        \"padding\" : \"VALID\",\n",
    "        \"input\": \"maxpool1\"\n",
    "    },\n",
    "    {\n",
    "        \"name\": \"conv4\",\n",
    "        \"type\": \"conv\",\n",
    "        \"n_kernels\": 64,\n",
    "        \"size\": (3, 3),\n",
    "        \"stride\": (1, 1),\n",
    "        \"padding\" : \"VALID\",\n",
    "        \"input\": \"conv3\"\n",
    "    },\n",
    "    {\n",
    "        \"name\": \"maxpool2\",\n",
    "        \"type\": \"maxpool\",\n",
    "        \"size\": (3, 3),\n",
    "        \"stride\": (2, 2),\n",
    "        \"padding\" : \"VALID\",\n",
    "        \"input\": \"conv4\"\n",
    "    },\n",
    "    {\"name\": \"fc1\", \"type\": \"fc\", \"input\": \"maxpool2\"},\n",
    "    {\"name\": \"CrossEntropy\", \"type\": \"cross_entropy\", \"input\": \"fc1\"}]\n",
    "\n",
    "# This is a dictionary that assigns numerical values to each label. The \n",
    "# keys of the dictionary are the actual labels used in the hdf5 file and \n",
    "# the values should be integery from 0 to N. Internally, labels are turned \n",
    "# into one-hot vectors, so in this set up, \"0\" becomes (1, 0, 0), \"5\" \n",
    "# becomes (0, 1, 0), and \"7\" becomes (0, 0, 1)\n",
    "categories = {\"0\": 0, \"5\": 1, \"7\": 2}\n",
    "\n",
    "# Initialize the DNN object.\n",
    "my_dnn = dnnSwift.DNNWrapper(\n",
    "    categories=categories, layout=dnn_layout)\n",
    "\n",
    "# The training data must be initialized. This means that the hdf5 file is \n",
    "# scanned and the images split into a training, validation, and test set.\n",
    "# The indices of the lists are written into the 'outfile' as a pickled \n",
    "# dictionary.\n",
    "my_dnn.initialize_training_data(\n",
    "    filename=\"demo_data/MNISTDemo.h5\", \n",
    "    outfile=\"demo_data/MNISTDemo_split.pkl\")\n",
    "\n",
    "# Train the network. Set 'verbose=True' to see the full output, including \n",
    "# the remaining time\n",
    "my_dnn.train_dnn(\n",
    "    num_epochs=5, batch_size=128, \n",
    "    weights_dir=\"demo_data/weights\", verbose=False)"
   ]
  },
  {
   "cell_type": "markdown",
   "metadata": {
    "deletable": true,
    "editable": true
   },
   "source": [
    "The _dnnSwift_ object writes its output into the 'weights_dir' directory. The output consists of weights and validation data. Validation data is calculated from data that was not trained on, i.e. it can be used for 1-fold cross validation of the training epochs."
   ]
  },
  {
   "cell_type": "code",
   "execution_count": 9,
   "metadata": {
    "collapsed": false,
    "deletable": true,
    "editable": true
   },
   "outputs": [
    {
     "name": "stdout",
     "output_type": "stream",
     "text": [
      "All Files: \n",
      "  - val_0.pkl\n",
      "  - val_1.pkl\n",
      "  - val_2.pkl\n",
      "  - val_3.pkl\n",
      "  - val_4.pkl\n",
      "  - weights_0.pkl\n",
      "  - weights_1.pkl\n",
      "  - weights_2.pkl\n",
      "  - weights_3.pkl\n",
      "  - weights_4.pkl\n",
      "  - weights_start.pkl\n"
     ]
    }
   ],
   "source": [
    "import pickle\n",
    "import os\n",
    "\n",
    "# For each epoch, a weights file and a validation file are created. \n",
    "# Counting starts at 0, i.e. *_0.pkl is the output AFTER the first epoch!\n",
    "all_files = os.listdir(\"demo_data/weights\")\n",
    "print \"All Files: \"\n",
    "for f in all_files:\n",
    "    print \"  - %s\" % f"
   ]
  },
  {
   "cell_type": "markdown",
   "metadata": {
    "deletable": true,
    "editable": true
   },
   "source": [
    "The validation files are pickled dictionaries containing various metrics. "
   ]
  },
  {
   "cell_type": "code",
   "execution_count": 10,
   "metadata": {
    "collapsed": false,
    "deletable": true,
    "editable": true
   },
   "outputs": [
    {
     "name": "stdout",
     "output_type": "stream",
     "text": [
      "Validation file type: <type 'dict'>\n",
      "Validation file keys:\n",
      "  - recall\n",
      "  - precision\n",
      "  - rmse_loss\n",
      "  - top_n_acc\n",
      "  - top_1_acc\n",
      "  - counts\n",
      "  - data_counts\n",
      "  - cross_entropy_loss\n"
     ]
    }
   ],
   "source": [
    "with open(\"demo_data/weights/val_0.pkl\", \"r\") as f:\n",
    "    val_dat = pickle.load(f)\n",
    "    keys = val_dat.keys()\n",
    "    print \"Validation file type: \" + str(type(val_dat))\n",
    "    print \"Validation file keys:\"\n",
    "    for key in keys:\n",
    "        print \"  - %s\" % key"
   ]
  },
  {
   "cell_type": "markdown",
   "metadata": {
    "deletable": true,
    "editable": true
   },
   "source": [
    "Lets determine the epoch with the best validation accuracy."
   ]
  },
  {
   "cell_type": "code",
   "execution_count": 11,
   "metadata": {
    "collapsed": false,
    "deletable": true,
    "editable": true
   },
   "outputs": [
    {
     "name": "stdout",
     "output_type": "stream",
     "text": [
      "Validation accuracies:\n",
      "  - 0.9483\n",
      "  - 0.9833\n",
      "  - 0.9850\n",
      "  - 0.9933\n",
      "  - 0.9933\n",
      "Best epoch: 3\n"
     ]
    }
   ],
   "source": [
    "val_accs = []\n",
    "for i in range(5):\n",
    "    with open(\"demo_data/weights/val_%s.pkl\" % str(i), \"r\") as f:\n",
    "        val_accs.append(pickle.load(f)[\"top_1_acc\"])\n",
    "best_epoch = val_accs.index(max(val_accs))\n",
    "print \"Validation accuracies:\"\n",
    "for val_acc in val_accs:\n",
    "    print \"  - %.4f\" % val_acc\n",
    "print \"Best epoch: %s\" % str(best_epoch)"
   ]
  },
  {
   "cell_type": "markdown",
   "metadata": {},
   "source": [
    "We've already seen that \"top_1_acc\" represents the top-1 accuracy. This is a common measure for determining the accuracy of neural networks. It represents the probability of the network correctly predicting the class of a validation data point. Additionally, the top-N accuracy is also calculated. This is the probability that the label of a validation data point is in the top N most likely classes predicted by the neural network.\n",
    "\n",
    "This is calculated for $1 <= N <= \\# Categories$. Here we have three categories into which we classify images."
   ]
  },
  {
   "cell_type": "code",
   "execution_count": 14,
   "metadata": {
    "collapsed": false
   },
   "outputs": [
    {
     "name": "stdout",
     "output_type": "stream",
     "text": [
      "Top-1 accuracy: 0.948333333333\n",
      "Top-2 accuracy: 0.995\n",
      "Top-3 accuracy: 1.0\n"
     ]
    }
   ],
   "source": [
    "with open(\"demo_data/weights/val_0.pkl\", \"r\") as f:\n",
    "    val = pickle.load(f)[\"top_n_acc\"]\n",
    "\n",
    "for key in val.keys():\n",
    "    print \"Top-%s accuracy: %s\" % (key, val[key])"
   ]
  },
  {
   "cell_type": "markdown",
   "metadata": {
    "deletable": true,
    "editable": true
   },
   "source": [
    "Beyond that, we can also calculate the precision-recall curves from the \"precision\" and \"recall\" keys. These entries contain nested dictionaries and are calculated for each label independently. They are calculated for various probability thresholds. That means that instead of naively using the highest probability to determine the class, one can set custom thresholds for each category."
   ]
  },
  {
   "cell_type": "code",
   "execution_count": 15,
   "metadata": {
    "collapsed": false,
    "deletable": true,
    "editable": true
   },
   "outputs": [
    {
     "ename": "NameError",
     "evalue": "name 'best_val' is not defined",
     "output_type": "error",
     "traceback": [
      "\u001b[0;31m---------------------------------------------------------------------------\u001b[0m",
      "\u001b[0;31mNameError\u001b[0m                                 Traceback (most recent call last)",
      "\u001b[0;32m<ipython-input-15-1be56eed9f84>\u001b[0m in \u001b[0;36m<module>\u001b[0;34m()\u001b[0m\n\u001b[1;32m      2\u001b[0m \u001b[0;34m\u001b[0m\u001b[0m\n\u001b[1;32m      3\u001b[0m \u001b[0;31m# Precision and Recall are calculated for each category individually\u001b[0m\u001b[0;34m\u001b[0m\u001b[0;34m\u001b[0m\u001b[0m\n\u001b[0;32m----> 4\u001b[0;31m \u001b[0;32mprint\u001b[0m \u001b[0;34m\"Labels: \"\u001b[0m \u001b[0;34m+\u001b[0m \u001b[0mstr\u001b[0m\u001b[0;34m(\u001b[0m\u001b[0mbest_val\u001b[0m\u001b[0;34m[\u001b[0m\u001b[0;34m\"precision\"\u001b[0m\u001b[0;34m]\u001b[0m\u001b[0;34m.\u001b[0m\u001b[0mkeys\u001b[0m\u001b[0;34m(\u001b[0m\u001b[0;34m)\u001b[0m\u001b[0;34m)\u001b[0m\u001b[0;34m\u001b[0m\u001b[0m\n\u001b[0m",
      "\u001b[0;31mNameError\u001b[0m: name 'best_val' is not defined"
     ]
    }
   ],
   "source": [
    "import matplotlib.pyplot as plt\n",
    "\n",
    "# Precision and Recall are calculated for each category individually\n",
    "print \"Labels: \" + str(best_val[\"precision\"].keys())"
   ]
  },
  {
   "cell_type": "markdown",
   "metadata": {
    "deletable": true,
    "editable": true
   },
   "source": [
    "In addition to the precision and recall, the number of items predicted for each category at each threshold level is also stored. This can be useful for computing averages of precision and recall between categories. Note that this is **not** the total number of elements for each class in the validation data, but the number of elements predicted by the DNN, correct or not.\n",
    "\n",
    "Let's look at the precision-recall curves for the digit \"5\". Precision and Recall are calculated for various probability thresholds. "
   ]
  },
  {
   "cell_type": "code",
   "execution_count": 84,
   "metadata": {
    "collapsed": false,
    "deletable": true,
    "editable": true,
    "scrolled": false
   },
   "outputs": [
    {
     "name": "stdout",
     "output_type": "stream",
     "text": [
      "Threshold | Precision |   Recall  | Counts\n",
      "--------------------------------------------\n",
      "  0.3333  |   0.8831  |   0.9808  |   231\n",
      "  0.3684  |   0.8831  |   0.9808  |   231\n",
      "  0.4035  |   0.8831  |   0.9808  |   231\n",
      "  0.4386  |   0.8831  |   0.9808  |   231\n",
      "  0.4737  |   0.8831  |   0.9808  |   231\n",
      "  0.5088  |   0.8904  |   0.9760  |   228\n",
      "  0.5439  |   0.8973  |   0.9663  |   224\n",
      "  0.5789  |   0.9000  |   0.9519  |   220\n",
      "  0.6140  |   0.9037  |   0.9471  |   218\n",
      "  0.6491  |   0.9206  |   0.9471  |   214\n",
      "  0.6842  |   0.9286  |   0.9375  |   210\n",
      "  0.7193  |   0.9327  |   0.9327  |   208\n",
      "  0.7544  |   0.9409  |   0.9183  |   203\n",
      "  0.7895  |   0.9397  |   0.8990  |   199\n",
      "  0.8246  |   0.9436  |   0.8846  |   195\n",
      "  0.8596  |   0.9468  |   0.8558  |   188\n",
      "  0.8947  |   0.9607  |   0.8221  |   178\n",
      "  0.9298  |   0.9620  |   0.7308  |   158\n",
      "  0.9649  |   0.9767  |   0.6058  |   129\n",
      "  1.0000  |      nan  |   0.0000  |     0\n",
      "--------------------------------------------\n"
     ]
    }
   ],
   "source": [
    "# We'll use the result of the first epoch to make the curve at least \n",
    "# somewhat interesting\n",
    "with open(\"demo_data/weights/val_0.pkl\", \"r\") as f:\n",
    "    val_dat = pickle.load(f)\n",
    "    precision = val_dat[\"precision\"][\"5\"]\n",
    "    recall = val_dat[\"recall\"][\"5\"]\n",
    "    counts = val_dat[\"counts\"][\"5\"]\n",
    "\n",
    "# The disadvantage of using a dictionary is that the entries are not \n",
    "# sorted. Future versions of this package may use a different storage \n",
    "# method for the validation\n",
    "p_thresh, p_val = zip(*precision.items())\n",
    "sort_indices = [p_thresh.index(p) for p in sorted(p_thresh, key=lambda x: float(x))]\n",
    "p_thresh = [float(p_thresh[i]) for i in sort_indices]\n",
    "p_val = [p_val[i] for i in sort_indices]\n",
    "    \n",
    "r_thresh, r_val = zip(*recall.items())\n",
    "sort_indices = [r_thresh.index(r) for r in sorted(r_thresh, key=lambda x: float(x))]\n",
    "r_thresh = [float(r_thresh[i]) for i in sort_indices]\n",
    "r_val = [r_val[i] for i in sort_indices]\n",
    "\n",
    "c_thresh, c_val = zip(*counts.items())\n",
    "sort_indices = [c_thresh.index(c) for c in sorted(c_thresh, key=lambda x: float(x))]\n",
    "c_thresh = [float(c_thresh[i]) for i in sort_indices]\n",
    "c_val = [c_val[i] for i in sort_indices]\n",
    "\n",
    "# The thresholds for all categories are identical:\n",
    "assert(p_thresh == r_thresh == c_thresh)\n",
    "\n",
    "# A value of 'nan' indicates that nothing was predicted, correctly or not, \n",
    "# with the given probability threshold.\n",
    "print \"Threshold | Precision |   Recall  | Counts\"\n",
    "print \"--------------------------------------------\"\n",
    "for i in range(len(p_thresh)):\n",
    "    print \"%8.4f  |\" % p_thresh[i], \\\n",
    "        \"%8.4f  |\" % p_val[i], \\\n",
    "        \"%8.4f  |\" % r_val[i], \\\n",
    "        \"%5d\" % c_val[i]\n",
    "print \"--------------------------------------------\""
   ]
  },
  {
   "cell_type": "markdown",
   "metadata": {
    "deletable": true,
    "editable": true
   },
   "source": [
    "## Imports for this vignette\n",
    "These imports are used throughout the vignette. When running the code yourself, be sure to always run this block first."
   ]
  },
  {
   "cell_type": "code",
   "execution_count": 1,
   "metadata": {
    "collapsed": true,
    "deletable": true,
    "editable": true
   },
   "outputs": [],
   "source": [
    "from __future__ import division\n",
    "import h5py\n",
    "import numpy as np\n",
    "import pickle\n",
    "import matplotlib.pyplot as plt\n",
    "%matplotlib inline"
   ]
  },
  {
   "cell_type": "markdown",
   "metadata": {
    "deletable": true,
    "editable": true
   },
   "source": [
    "## ImageHandler: Initializing and Handling of Training Data\n",
    "All training data is handled by the *ImageHandler* class. It expects training data to be in the [HDF5 file format](https://support.hdfgroup.org/HDF5/). The structure of this file must be as follows:\n",
    "\n",
    "    - FILE\n",
    "      - DATASET \"images\"\n",
    "        - SHAPE (Number of Images, Image Channels, Spatial Dimension, Spatial Dimension)\n",
    "      - DATASET \"labels\"\n",
    "        - SHAPE (Number of Images, 1)\n",
    "\n",
    "The dataset *images* effectively contains a 4D numpy array with the aforementioned shape. The dataset *labels* contains a 2D numpy array of label names, e.g.\n",
    "\n",
    "    array([['Label_A'],\n",
    "           ['Label_A'],\n",
    "           ['Label_B'],\n",
    "           ['Label_B'],\n",
    "           ['Label_B'],\n",
    "           ['Label_C'],\n",
    "           ['Label_C'],\n",
    "           ['Label_A']], \n",
    "          dtype='|S7')\n",
    "\n",
    "The *ImageHandler* class automatically turns the string labels into one-hot vectors, e.g. (1, 0, 0, 0), with the appropriate dimensions. Note that the dataset names, *images* and *labels* can be changed; custom names can be passed to the *ImageHandler* constructor.\n",
    "\n",
    "Note that the data file may, of course, have additional data sets (e.g. to store metadata). These are simply ignored.\n",
    "\n",
    "### Generating a Training Data HDF5 file\n",
    "For this demonstration, I generate a dataset consisting of noisy circles and squares, which we want to classify with a DNN."
   ]
  },
  {
   "cell_type": "code",
   "execution_count": 2,
   "metadata": {
    "collapsed": false,
    "deletable": true,
    "editable": true
   },
   "outputs": [],
   "source": [
    "# The size of our image segments (both dimensions have the same size)\n",
    "img_dims = 25\n",
    "\n",
    "# The number of images in each class\n",
    "num_images = 10000\n",
    "\n",
    "max_rad = ((img_dims - 1) // 2) - 1\n",
    "center = (img_dims - 1) // 2\n",
    "ind_y, ind_x = np.indices(dimensions=(img_dims, img_dims)) - center\n",
    "\n",
    "# Circles\n",
    "rand_rads = np.random.randint(5, max_rad+1, num_images)\n",
    "rand_intensities = np.random.randint(1, 256, num_images)\n",
    "noise_field = np.random.randint(-32, 33, (img_dims, img_dims, num_images))\n",
    "rad_field = np.repeat(np.expand_dims(np.sqrt(ind_y**2 + ind_x**2), 2), num_images, 2) <= rand_rads\n",
    "img_circles = (rad_field.astype(dtype=np.int16) * rand_intensities) + noise_field\n",
    "img_circles[img_circles < 0] = 0\n",
    "img_circles[img_circles > 255] = 255\n",
    "\n",
    "# Squares\n",
    "rand_rads = np.random.randint(5, max_rad+1, num_images)\n",
    "rand_intensities = np.random.randint(1, 256, num_images)\n",
    "noise_field = np.random.randint(-32, 33, (img_dims, img_dims, num_images))\n",
    "ind_x_square = np.repeat(np.expand_dims(ind_x, 2), num_images, 2)\n",
    "ind_y_square = np.repeat(np.expand_dims(ind_y, 2), num_images, 2)\n",
    "square_field = (np.abs(ind_x_square) <= rand_rads) * (np.abs(ind_y_square) <= rand_rads)\n",
    "img_squares = (square_field.astype(dtype=np.int16) * rand_intensities) + noise_field\n",
    "img_squares[img_squares < 0] = 0\n",
    "img_squares[img_squares > 255] = 255\n",
    "\n",
    "imgs = np.concatenate((img_circles, img_squares), 2)\n",
    "imgs = np.transpose(imgs, (2, 0, 1))\n",
    "imgs = np.expand_dims(imgs, 1)\n",
    "imgs = imgs.astype(np.uint8)\n",
    "labels = np.expand_dims(np.repeat((\"Circle\", \"Square\"), (num_images, num_images)), 1)\n",
    "\n",
    "with h5py.File(\"TrainingData.h5\", \"w\") as h5handle:\n",
    "    h5handle.create_dataset(name=\"images\", data=imgs, chunks=(1, 1, img_dims, img_dims), compression=3)\n",
    "    h5handle.create_dataset(name=\"labels\", data=labels, chunks=(1, 1), compression=3)"
   ]
  },
  {
   "cell_type": "markdown",
   "metadata": {
    "deletable": true,
    "editable": true
   },
   "source": [
    "The resulting file, *TrainingData.h5*, has the following structure:"
   ]
  },
  {
   "cell_type": "code",
   "execution_count": 3,
   "metadata": {
    "collapsed": false,
    "deletable": true,
    "editable": true
   },
   "outputs": [
    {
     "name": "stdout",
     "output_type": "stream",
     "text": [
      "Entries:  [u'images', u'labels']\n",
      "<HDF5 dataset \"images\": shape (20000, 1, 25, 25), type \"|u1\">\n",
      "<HDF5 dataset \"labels\": shape (20000, 1), type \"|S6\">\n"
     ]
    }
   ],
   "source": [
    "with h5py.File(\"TrainingData.h5\", \"r\") as h5handle:\n",
    "    print \"Entries: \", h5handle.keys()\n",
    "    print h5handle[\"images\"]\n",
    "    print h5handle[\"labels\"]"
   ]
  },
  {
   "cell_type": "markdown",
   "metadata": {
    "deletable": true,
    "editable": true
   },
   "source": [
    "### Loading the Training Data\n",
    "\n",
    "*ImageHandler* reads this file and prepares the data for the DNN class. "
   ]
  },
  {
   "cell_type": "code",
   "execution_count": 4,
   "metadata": {
    "collapsed": false,
    "deletable": true,
    "editable": true
   },
   "outputs": [],
   "source": [
    "import DNNSwift\n",
    "img_handler = DNNSwift.ImageHandler.initialize(\n",
    "    filename=\"TrainingData.h5\", \n",
    "    categories={\"Circle\": 0, \"Square\": 1})"
   ]
  },
  {
   "cell_type": "markdown",
   "metadata": {
    "deletable": true,
    "editable": true
   },
   "source": [
    "The *categories* argument assigns numerical values to each label. The output of a tensorflow neural network is a vector of numbers, which can be interpreted as probabilities after the proper normalization. The integer value of the *categories* dictionary indicates the order of labels, i.e. in this case 'Circle' is assigned to the one-hot vector (1,0) and 'Square' to the one-hot vector (0,1). A normalized output of (0.4,0.6) would then be interpreted as a 60% probability for the input image being a square.\n",
    "\n",
    "*ImageHandler* randomly splits apart the entire dataset into three groups for training, (cross-)validation, and testing and internally stores the image indices belonging to each group. Note that the order of images is randomized, during this split so that the data order in the hdf5 file is not preserved at runtime."
   ]
  },
  {
   "cell_type": "code",
   "execution_count": 5,
   "metadata": {
    "collapsed": false,
    "deletable": true,
    "editable": true
   },
   "outputs": [
    {
     "name": "stdout",
     "output_type": "stream",
     "text": [
      "test :: Length: 2000\n",
      "train :: Length: 16000\n",
      "val :: Length: 2000\n"
     ]
    }
   ],
   "source": [
    "for list_name in img_handler.get_list_names():\n",
    "    print list_name, \":: Length:\", img_handler.get_list_length(list_name)"
   ]
  },
  {
   "cell_type": "markdown",
   "metadata": {
    "deletable": true,
    "editable": true
   },
   "source": [
    "By default, the split is 80%-10%-10% (Training, Validation, Testing), but this can be customized via the *data_split* argument of the constructor. It expects a list of values indicating the relative sizes of each image set (in order: training, validation, testing). The numbers are normalized internally so can be arbitrarily large. \n",
    "\n",
    "Likewise, the custom names for the HDF5 datasets can also be passed to the *ImageHandler* constructor via the arguments *image_key* and *label_key*, if so desired."
   ]
  },
  {
   "cell_type": "code",
   "execution_count": 6,
   "metadata": {
    "collapsed": false,
    "deletable": true,
    "editable": true
   },
   "outputs": [],
   "source": [
    "img_handler = DNNSwift.ImageHandler.initialize(\n",
    "    filename=\"TrainingData.h5\", \n",
    "    categories={\"Circle\": 0, \"Square\": 1},\n",
    "    data_split=[60, 20, 20])"
   ]
  },
  {
   "cell_type": "markdown",
   "metadata": {
    "deletable": true,
    "editable": true
   },
   "source": [
    "The image split can be saved. If, for whatever reason, the network needs to be revalidated or training is interrupted and continued, the identical training dataset must be used. For this reason, *ImageHandler* can also be initialized with an index list, preventing the creation of a new one.\n",
    "\n",
    "In order to ensure that the HDF5 file with the training data is unchanged, the md5sum of this file is calculated and stored in the file containing the image group split."
   ]
  },
  {
   "cell_type": "code",
   "execution_count": 7,
   "metadata": {
    "collapsed": true,
    "deletable": true,
    "editable": true
   },
   "outputs": [],
   "source": [
    "img_handler.save_lists(\"IndexLists.pkl\")    "
   ]
  },
  {
   "cell_type": "code",
   "execution_count": 8,
   "metadata": {
    "collapsed": false,
    "deletable": true,
    "editable": true
   },
   "outputs": [
    {
     "name": "stdout",
     "output_type": "stream",
     "text": [
      "Keys: ['h5file_hash', 'index_list']\n",
      "Index Lists:\n",
      "   test : [10555 13641  8198 ...,  9972 10937 13895]\n",
      "   train : [ 5994 15295  4350 ...,  5423  1479  3371]\n",
      "   val : [15712    82  3498 ...,  7921  1774  7309]\n",
      "md5sum: 885cd4ffb20867e700a43905179c284a\n"
     ]
    }
   ],
   "source": [
    "import pickle\n",
    "with open(\"IndexLists.pkl\", \"r\") as f:\n",
    "    index_file = pickle.load(f)\n",
    "    \n",
    "print \"Keys:\", index_file.keys()\n",
    "print \"Index Lists:\"\n",
    "for key in index_file[\"index_list\"].keys():\n",
    "    print \"  \", key, \":\", index_file[\"index_list\"][key]\n",
    "print \"md5sum:\", index_file[\"h5file_hash\"]\n",
    "\n",
    "img_handler = DNNSwift.ImageHandler.initialize_with_index_list(\n",
    "    filename=\"TrainingData.h5\", \n",
    "    categories={\"Circle\": 0, \"Square\": 1}, \n",
    "    index_list=index_file)"
   ]
  },
  {
   "cell_type": "markdown",
   "metadata": {
    "deletable": true,
    "editable": true
   },
   "source": [
    "Images can be extracted directly from the image handler. This returns a custom object with the attributes \"imgs\" and \"labels\", which hold the image and label data, respectively. Note that *index_high* is an inclusive index, as opposed to python's usual indexing logic of excluding the upper limit. Ergo, setting \n",
    "\n",
    "    index_low == index_high \n",
    "\n",
    "returns a single image."
   ]
  },
  {
   "cell_type": "code",
   "execution_count": 9,
   "metadata": {
    "collapsed": false,
    "deletable": true,
    "editable": true
   },
   "outputs": [
    {
     "name": "stdout",
     "output_type": "stream",
     "text": [
      "Object type: <DNNSwift.ImageHandler.ImagesAndLabels object at 0x13467d890>\n",
      "images.imgs: <type 'numpy.ndarray'> ; (10, 25, 25, 1)\n",
      "images.labels: <type 'numpy.ndarray'> ; (10, 2)\n"
     ]
    },
    {
     "data": {
      "text/plain": [
       "<matplotlib.image.AxesImage at 0x134d07750>"
      ]
     },
     "execution_count": 9,
     "metadata": {},
     "output_type": "execute_result"
    },
    {
     "data": {
      "image/png": "[encoded data removed]",
      "text/plain": [
       "<matplotlib.figure.Figure at 0x104fad150>"
      ]
     },
     "metadata": {},
     "output_type": "display_data"
    }
   ],
   "source": [
    "images = img_handler.get_images(list_name=\"test\", index_low=0, index_high=9)\n",
    "print \"Object type:\", images\n",
    "print \"images.imgs:\", type(images.imgs), \";\", images.imgs.shape\n",
    "print \"images.labels:\", type(images.labels), \";\", images.labels.shape\n",
    "\n",
    "plt.imshow(np.concatenate(images.imgs[..., 0], axis=1))"
   ]
  },
  {
   "cell_type": "markdown",
   "metadata": {
    "deletable": true,
    "editable": true
   },
   "source": [
    "## Initializing the DNN\n",
    "The architecture of the DNN is defined in a layout file that has the structure of a list of python dictionaries, e.g.:\n",
    "\n",
    "    [{name: \"A\", type: \"conv\", ...},\n",
    "     {name: \"B\", type: \"conv\", ...}, \n",
    "     {name: \"C\", type: \"fc\", ...}]\n",
    "\n",
    "Each dictionary corresponds to a single node, or layer, in the DNN. The type of node is defined via the 'type' key. The currently supported nodes and the required dictionary keys are:\n",
    "\n",
    "* Input Layer ('input')\n",
    "    * In tensorflow terminology, this is a *placeholder* into which data is loaded at run-time.\n",
    "    * Required / Supported keys:\n",
    "        * name: (str) A unique name for the node\n",
    "        * type: 'input'\n",
    "        * data_z_index: (list or integer) The input data can be split along the z-axis/channels. This list (or integer) indicates which z-layers/channels of the input data should be read into this particular input node. If this is missing, the class assumes all layers are to be used as input. This is useful, for example, if each color channel of an image should be trained on independently rather than together with the other channels. Convolutions on 3D images, at least in Tensorflow, are across all dimensions simultaneously. If the individual channels are independent, however (e.g. in biological images with N staining channels), then this can lead to a significant reduction in classification accuracy, see [here](http://biorxiv.org/content/early/2016/11/02/085118). \n",
    "* Convolution ('conv')\n",
    "    * A standard tensorflow convolution across the input data\n",
    "    * Required / Supported keys:\n",
    "        * name: (str) A unique name for the node\n",
    "        * type: 'conv'\n",
    "        * input: (str) The name of the input node for this convolution, i.e. the node that feeds its output into the convolution\n",
    "        * size: (tuple of integers) The size of the convolutional kernel across the spatial dimensions. The convolution is performed across all channels at once, there is currently no provision for having a convolution across, for example, two of three channels at a time. This might be a useful addition later on if, for example, one were to feed time series data into the DNN\n",
    "        * n_kernels: (integer) The number of independent kernels to use. A convolution layer with N kernels outputs a feature map with N channels.\n",
    "        * stride: (tuple of integers) The size of the steps to take for the convolution, i.e. a stride of N means that the convolution is only performed every N-th pixel (e.g. to avoid overlaps)\n",
    "        * padding: (str) Must have a value permitted by tensorflow (currently only \"VALID\", i.e. the convolution is only performed when the kernel is completely inside the image, or \"SAME\", the outside of the image is padded with the nearest pixel value to allow a convolution even at the border)\n",
    "* Maximum Pooling ('maxpool')\n",
    "    * A maximum pooling operation that returns only the largest value in a given window\n",
    "    * Required / Supported keys:\n",
    "        * name: (str) A unique name for the node\n",
    "        * type: 'maxpool'\n",
    "        * input: (str) The name of the input node for the maximum pooling, i.e. the node that feeds its output into the maximum pooling\n",
    "        * size: (tuple of integers) The size of the maxpool kernel across the spatial dimensions. Maximum pooling is performed channel-wise. At the time of development, tensorflow did not support pooling across channels\n",
    "        * stride: (tuple of integers) The size of the steps to take for the maxpool operation, i.e. a stride of N means that the pooling is only performed every N-th pixel (e.g. to avoid overlaps)\n",
    "        * padding: (str) Must have a value permitted by tensorflow (currently only \"VALID\", i.e. the pooling is only performed when the kernel is completely inside the image, or \"SAME\", the outside of the image is padded with the nearest pixel value to allow pooling even at the border)\n",
    "* Fully Connected ('fc')\n",
    "    * Fully connected layers are used in classification but not segmentation. To allow for flexibility between the two tasks, the FC-functionality is implemented as a convolution with the size of the input and a \"VALID\" padding, so that the output is a (1 x 1 x K) feature vector, where K is the number of 'pseudo-convolutional' kernels used.\n",
    "    * Required / Supported keys:\n",
    "        * name: (str) A unique name for the node\n",
    "        * type: 'fc'\n",
    "        * input: (str) The name of the input node for the fc layer, i.e. the node that feeds its output into the fc layer\n",
    "        * **[optional]** n_kernels: (integer) If n_kernels is given as a dictionary key, then the layer will consist of the corresponding number of convolutions/fully connected features. If this key is missing, however, the class will automatically create as many output features as there are categories in the training data so that the output can be normalized and interpreted as a probability for each category. The last operational layer of each network (before the definition of the loss function) should be a fully connected layer without a *n_kernels' parameter\n",
    "* Concatenation ('concat')\n",
    "    * Combines multiple input tensors along the channel axis. E.g. if two feature arrays, each with 128 channels, are concatenated, then this layer outputs a feature array with 256 channels\n",
    "    * Required / Supported keys:\n",
    "        * name: (str) A unique name for the node\n",
    "        * type: 'concat'\n",
    "        * input: (tuple of str) A list of names of input nodes for the concatenation layer. This **must** be an iterable object (list, tuple, numpy array), even if, for whatever reason, only a single layer serves as input.\n",
    "* Inception ('inception')\n",
    "    * A compound block inspired by Google's [inception architecture](https://github.com/tensorflow/models/tree/master/inception). A block consists of N independent branches, each with a varying kernel size, that are concatenated to a single feature array at the end. An example of such a block is shown here: \n",
    "    \n",
    "    ![InceptionBlock](inception_module.jpg)\n",
    "    \n",
    "    The pooling and convolutions are performed in a way that results in the output feature array having the same spatial dimensions as the input layer. To further reduce computational time, NxN convolutions are split into an Nx1 and 1xN convolution ([Separable Convolutions](https://arxiv.org/abs/1610.02357)).\n",
    "    * Required / Supported keys:\n",
    "        * name: (str) A unique name for the node\n",
    "        * type: 'inception'\n",
    "        * input: (str) The name of the input node for the inception layer, i.e. the node that feeds its output into the inception layer\n",
    "        * branches: (tuple of ints) The 1x1 convolution as well as the pooling+1x1 convolution branches are always created. Additional branches, i.e. kernel sizes, are defined via this parameter. For example, to create an inception module with the branches shown in the image above, branches must be set to (3, 5). Duplicate kernel sizes are ignored.\n",
    "        * n_kernels: (int) The 1x1 convolution in each branch is used to \"downsample\" the input feature array in order to optimize computation time. This parameter determines how many feature maps each branch outputs. The final output of the inception is a concatenation of all branch outputs, so accordingly it has n_kernels * number of branches feature maps.\n",
    "* Loss Function / Optimizer ('cross_entropy' / 'rmse')\n",
    "    * This is not an operational node but the loss function that will be used by the gradient descent algorithm when training the algorithm. Even if the DNN will only be used for application and not training, a loss function must still be defined (but will then be ignored). There may be only one loss function defined in the layout file. Currently permitted loss functions are the [cross entropy](https://en.wikipedia.org/wiki/Cross_entropy) and the root mean square error.\n",
    "    * Required / Supported keys:\n",
    "        * name: (str) A unique name for the node\n",
    "        * type: 'cross_entropy' or 'rmse'\n",
    "        * input: (str) The name of the input node for the loss function, i.e. the last operational layer of the network (usually the unnormalized probability vector for each category)\n",
    "        * optimizer_type: This must be a native tensorflow optimizer (defaults to tensorflow.train.AdamOptimizer)\n",
    "\n",
    "An example of a layout file is given below. This layout takes input data with three channels and passes each channel through an independent node chain before concatenating the results:\n",
    "\n",
    "    {\"name\": \"data_ch1\", \"type\": \"input\", \"data_z_index\": [0]},\n",
    "    {\"name\": \"data_ch2\", \"type\": \"input\", \"data_z_index\": [1]},\n",
    "    {\"name\": \"data_ch3\", \"type\": \"input\", \"data_z_index\": [2]},\n",
    "    {\"name\": \"conv1_ch1\", \"type\": \"conv\", \"n_kernels\": 64, \"size\": (3, 3), \n",
    "     \"stride\": (1, 1), \"padding\": \"VALID\", \"input\": \"data_ch1\"},\n",
    "    {\"name\": \"conv1_ch2\", \"type\": \"conv\", \"n_kernels\": 64, \"size\": (3, 3),\n",
    "     \"stride\": (1, 1), \"padding\": \"VALID\", \"input\": \"data_ch2\"},\n",
    "    {\"name\": \"conv1_ch3\", \"type\": \"conv\", \"n_kernels\": 64, \"size\": (3, 3),\n",
    "     \"stride\": (1, 1), \"padding\": \"VALID\", \"input\": \"data_ch3\"},\n",
    "    {\"name\": \"incep1_ch1\", \"type\": \"inception\", \"input\": \"conv1_ch1\", \n",
    "     \"n_kernels\": 32, \"branches\": (3, 5, 7)},\n",
    "    {\"name\": \"incep1_ch2\", \"type\": \"inception\", \"input\": \"conv1_ch2\", \n",
    "     \"n_kernels\": 32, \"branches\": (3, 5, 7)},\n",
    "    {\"name\": \"incep1_ch3\", \"type\": \"inception\", \"input\": \"conv1_ch3\", \n",
    "     \"n_kernels\": 32, \"branches\": (3, 5, 7)},\n",
    "    {\"name\": \"maxpool_after_incep1_ch1\", \"type\": \"maxpool\", \"size\": (3, 3), \n",
    "     \"stride\": (2, 2), \"padding\": \"SAME\", \"input\": \"incep1_ch1\"},\n",
    "    {\"name\": \"maxpool_after_incep1_ch2\", \"type\": \"maxpool\", \"size\": (3, 3), \n",
    "     \"stride\": (2, 2), \"padding\": \"SAME\", \"input\": \"incep1_ch2\"},\n",
    "    {\"name\": \"maxpool_after_incep1_ch3\", \"type\": \"maxpool\", \"size\": (3, 3), \n",
    "     \"stride\": (2, 2), \"padding\": \"SAME\", \"input\": \"incep1_ch3\"},\n",
    "    {\"name\": \"fc_ch1\", \"type\": \"fc\", \"n_kernels\": 32, \n",
    "     \"input\": \"maxpool_after_incep1_ch1\"},\n",
    "    {\"name\": \"fc_ch2\", \"type\": \"fc\", \"n_kernels\": 32, \n",
    "     \"input\": \"maxpool_after_incep1_ch2\"},\n",
    "    {\"name\": \"fc_ch3\", \"type\": \"fc\", \"n_kernels\": 32, \n",
    "     \"input\": \"maxpool_after_incep1_ch3\"},\n",
    "    {\"name\": \"concat_channels\", \"type\": \"concat\", \n",
    "     \"input\": [\"fc_ch1\", \"fc_ch2\", \"fc_ch3\"]},\n",
    "    {\"name\": \"output\", \"type\": \"fc\", \"input\": \"concat_channels\"},\n",
    "    {\"name\": \"CrossEntropy\", \"type\": \"cross_entropy\", \"input\": \"output\"}\n",
    "\n",
    "For the training data, however, a much simpler DNN will suffice to classify the images. The structure of this network is:\n"
   ]
  },
  {
   "cell_type": "code",
   "execution_count": 10,
   "metadata": {
    "collapsed": true,
    "deletable": true,
    "editable": true
   },
   "outputs": [],
   "source": [
    "dnn_layout = [{\"name\": \"input\", \"type\": \"input\"},\n",
    "             {\"name\": \"conv1\", \"type\": \"conv\", \"n_kernels\": 32, \"size\": (3, 3), \n",
    "              \"stride\": (1, 1), \"padding\" : \"VALID\", \"input\": \"input\"}, \n",
    "             {\"name\": \"conv2\", \"type\": \"conv\", \"n_kernels\": 32, \"size\": (3, 3), \n",
    "              \"stride\": (1, 1), \"padding\" : \"VALID\", \"input\": \"conv1\"},\n",
    "             {\"name\": \"maxpool1\", \"type\": \"maxpool\", \"size\": (3, 3), \n",
    "              \"stride\": (2, 2), \"padding\" : \"VALID\", \"input\": \"conv2\"},\n",
    "             {\"name\": \"conv3\", \"type\": \"conv\", \"n_kernels\": 64, \"size\": (3, 3), \n",
    "              \"stride\": (1, 1), \"padding\" : \"VALID\", \"input\": \"maxpool1\"},\n",
    "             {\"name\": \"conv4\", \"type\": \"conv\", \"n_kernels\": 64, \"size\": (3, 3), \n",
    "              \"stride\": (1, 1), \"padding\" : \"VALID\", \"input\": \"conv3\"},\n",
    "             {\"name\": \"maxpool2\", \"type\": \"maxpool\", \"size\": (3, 3), \n",
    "              \"stride\": (2, 2), \"padding\" : \"VALID\", \"input\": \"conv4\"},\n",
    "             {\"name\": \"fc1\", \"type\": \"fc\", \"input\": \"maxpool2\"},\n",
    "             {\"name\": \"CrossEntropy\", \"type\": \"cross_entropy\", \"input\": \"fc1\"}]"
   ]
  },
  {
   "cell_type": "markdown",
   "metadata": {
    "deletable": true,
    "editable": true
   },
   "source": [
    "The network wrapper is initialized via:"
   ]
  },
  {
   "cell_type": "code",
   "execution_count": 11,
   "metadata": {
    "collapsed": false,
    "deletable": true,
    "editable": true
   },
   "outputs": [],
   "source": [
    "trainer = DNNSwift.DNN(\n",
    "    img_dims=img_handler.get_image_dims(), \n",
    "    labels=img_handler.get_image_groups(), \n",
    "    layer_params=dnn_layout, \n",
    "    basedir=\"dnn_output\")"
   ]
  },
  {
   "cell_type": "markdown",
   "metadata": {
    "deletable": true,
    "editable": true
   },
   "source": [
    "The required parameters are as follows:\n",
    "* img_dims: The dimension of the training images (spatial, spatial, channels), e.g. (21, 21, 3)\n",
    "* labels: The same label dictionary used for the ImageHandler class\n",
    "* layer_params: The list of dictionaries defining the network structure\n",
    "* basedir: The base directory into which training and validation results should be written (note that this directory must exist, this package does not create it).\n",
    "\n",
    "Optional parameters may also include:\n",
    "* weights (defaults to None): A dictionary of values with which to initialize the network (see further below for more information on this). If not explicitly defined (or defined as 'None') then random weights are chosen.\n",
    "* learning_rate (defaults to 1e-3): The initial learning rate of the DNN (note that depending on the optimizer chosen, the learning rate will be changed throughout the training process\n",
    "\n",
    "An image of the network structure can be created via:"
   ]
  },
  {
   "cell_type": "code",
   "execution_count": 12,
   "metadata": {
    "collapsed": false,
    "deletable": true,
    "editable": true
   },
   "outputs": [],
   "source": [
    "trainer.print_structure(filename=\"DNN_Structure.png\")"
   ]
  },
  {
   "cell_type": "markdown",
   "metadata": {
    "deletable": true,
    "editable": true
   },
   "source": [
    "The *filename* is the relative path under the objects *basedir* folder. The output type is defined by the file ending, e.g. \\*.png outputs an image. The full list of permitted output types can be found at the [PyGraphViz](https://pygraphviz.github.io/) homepage.\n",
    "\n",
    "## Training the Network\n",
    "Running the network training after initialization is as simple as executing the command"
   ]
  },
  {
   "cell_type": "code",
   "execution_count": 13,
   "metadata": {
    "collapsed": false,
    "deletable": true,
    "editable": true
   },
   "outputs": [],
   "source": [
    "trainer.train_network(\n",
    "    batch_size=128, \n",
    "    image_handler=img_handler, \n",
    "    num_epochs=1,\n",
    "    subdir=\"weights\", \n",
    "    logfile=\"dnn_output/DNN_log.txt\")"
   ]
  },
  {
   "cell_type": "markdown",
   "metadata": {
    "deletable": true,
    "editable": true
   },
   "source": [
    "The required parameters are as follows:\n",
    "* batch_size: Stochastic gradient descent methods train data in batches, meaning a number of images are put through the network and their respective losses are averaged prior to parameter adjustment. This significantly decreases the time required to train a network to convergence and also helps avoid local minima.\n",
    "* image_handler: The ImageHandler object instantiated earlier, which holds the training data\n",
    "* num_epochs: The number of iterations over the training data. For training neural networks via stochastic gradient descent, it is common to train the network on the same data repeatedly until convergence. In each iteration, the training data is randomly shuffled and grouped into new batches.\n",
    "\n",
    "Optional parameters may also include:\n",
    "* subdir (defaults to \".\"): The subdirectory (under the object's *basedir* declared above) into which to save the weights and validation data. 'subdir' **is** created if it does not exist\n",
    "* logfile (defaults to None): The file into which to write the training status. If 'None', then output is written to the standard output (e.g. command line). Appends to the file if it already exists. Requires an absolute path to enable integration of the class with other code.\n",
    "* vebose (defaults to True): If this is set to 'True', then detailed outputs are shown (including the time remaining and the number of batches processed in the current epoch). If 'False', then only the validation accuracy at the end of the epoch is shown.\n",
    "* start_epoch (defaults to 0): It may be necessary to continue training from a specific epoch and retain consistency with the epoch naming. This is the epoch at which to continue training.\n",
    "\n",
    "The *DNN* class uses the validation subset of the training data to perform a cross-validation of the state of the network. The calculation and file writing are handled entirely by the *Validator* class (and its *save_results()* method). The file contains a python dictionary with the keys:\n",
    "* precision/recall/counts: Precision/Recall statistics for each image class. This also includes the number of elements identified for each category (correctly or incorrectly) for the purpose of determining a weighted average of PR curves.\n",
    "* top_1_acc: The 'top-1 accuracy', i.e. the number of elements correctly identified with their proper labels\n",
    "* cross_entropy_loss/rmse_loss: The mean values of the loss functions (cross entropy and root mean squared error) for the validation data. Both of these are calculated, regardless of which loss function was actually used for the training, for informational purposes."
   ]
  },
  {
   "cell_type": "code",
   "execution_count": 14,
   "metadata": {
    "collapsed": false,
    "deletable": true,
    "editable": true
   },
   "outputs": [
    {
     "name": "stdout",
     "output_type": "stream",
     "text": [
      "Keys: ['recall', 'precision', 'rmse_loss', 'top_1_acc', 'cat_collapse_acc', 'counts', 'cross_entropy_loss']\n",
      "Validation Accuracy: 0.9615\n"
     ]
    }
   ],
   "source": [
    "import pickle\n",
    "with open(\"dnn_output/weights/val_0.pkl\", \"r\") as f:\n",
    "    val_dat = pickle.load(f)\n",
    "print \"Keys:\", val_dat.keys()\n",
    "print \"Validation Accuracy:\", val_dat[\"top_1_acc\"]"
   ]
  },
  {
   "cell_type": "markdown",
   "metadata": {
    "deletable": true,
    "editable": true
   },
   "source": [
    "The trained parameters ('weights') are output as as pickled python dictionary. For each node with a set of parameters (i.e. convolutions and all derivatives), two keys exist in the dictionary, 'node_name/w' and 'node_name/b' for the multiplicative weights and the biases, respectively. The values of each dictionary entry is a numpy array:"
   ]
  },
  {
   "cell_type": "code",
   "execution_count": 15,
   "metadata": {
    "collapsed": false,
    "deletable": true,
    "editable": true
   },
   "outputs": [
    {
     "name": "stdout",
     "output_type": "stream",
     "text": [
      "conv1/b : (32,)\n",
      "conv1/w : (3, 3, 1, 32)\n",
      "conv2/b : (32,)\n",
      "conv2/w : (3, 3, 32, 32)\n",
      "conv3/b : (64,)\n",
      "conv3/w : (3, 3, 32, 64)\n",
      "conv4/b : (64,)\n",
      "conv4/w : (3, 3, 64, 64)\n",
      "fc1/b : (2,)\n",
      "fc1/w : (2, 2, 64, 2)\n"
     ]
    }
   ],
   "source": [
    "with open(\"dnn_output/weights/weights_0.pkl\", \"r\") as f:\n",
    "    weights = pickle.load(f)\n",
    "keys = sorted(weights.keys())\n",
    "for key in keys:\n",
    "    print key, \":\", weights[key].shape"
   ]
  },
  {
   "cell_type": "markdown",
   "metadata": {
    "deletable": true,
    "editable": true
   },
   "source": [
    "If initializing a DNN with non-random weights, the dictionary **must** have two keys for each layer that requires parameters with the expected shape: (spatial, spatial, input channels, num_kernels/output_channels)\n",
    "\n",
    "## Applying the network\n",
    "The DNN, once trained, can also be applied to images. The output is a vector of (unnormalized) probabilities for each category (the indices of the output vectors correspond to the numerical values given to each category as defined above). There are several \"extra\" dimensions in the numpy array due to tensorflow's internal logic. For consistency, these are included in the output and can be 'squeezed' away for easier handling."
   ]
  },
  {
   "cell_type": "code",
   "execution_count": 16,
   "metadata": {
    "collapsed": false,
    "deletable": true,
    "editable": true,
    "scrolled": true
   },
   "outputs": [
    {
     "name": "stdout",
     "output_type": "stream",
     "text": [
      "Output shape: (10, 1, 1, 2)\n",
      "Output:\n",
      "[[  6.32994604e+00   2.65618057e+01]\n",
      " [  3.14977169e+00   9.42996693e+00]\n",
      " [  8.00156784e+00   4.46643174e-01]\n",
      " [  6.08139038e+00   2.32556953e+01]\n",
      " [  1.31521511e+01   9.78497982e-01]\n",
      " [  2.64972854e+00   1.03727827e+01]\n",
      " [  9.80003834e-01   1.47008562e+00]\n",
      " [  3.31285906e+00   4.99898243e+00]\n",
      " [  1.37556057e+01  -2.84361839e-03]\n",
      " [  4.25528145e+00   1.25044174e+01]]\n",
      "Image Categories: {'Circle': 0, 'Square': 1}\n"
     ]
    }
   ],
   "source": [
    "# Initialize the object with the optimal set of weights\n",
    "trainer = DNNSwift.DNN(\n",
    "    img_dims=img_handler.get_image_dims(), \n",
    "    labels=img_handler.get_image_groups(), \n",
    "    layer_params=dnn_layout, \n",
    "    basedir=\"dnn_output\",\n",
    "    weights=weights)\n",
    "\n",
    "images = img_handler.get_images(\"test\", 0, 9)\n",
    "output = trainer.run_network(input_images=images.imgs)\n",
    "print \"Output shape:\", output.shape\n",
    "print \"Output:\\n\", np.squeeze(output)\n",
    "print \"Image Categories:\", img_handler.get_image_groups()"
   ]
  },
  {
   "cell_type": "markdown",
   "metadata": {
    "deletable": true,
    "editable": true
   },
   "source": [
    "Comparing the input labels with the output logits:"
   ]
  },
  {
   "cell_type": "code",
   "execution_count": 17,
   "metadata": {
    "collapsed": false,
    "deletable": true,
    "editable": true
   },
   "outputs": [
    {
     "name": "stdout",
     "output_type": "stream",
     "text": [
      "Network Output: [1 1 0 1 0 1 1 1 0 1]\n",
      "Ground Truth:   [1 1 0 1 0 1 0 1 0 1]\n"
     ]
    }
   ],
   "source": [
    "print \"Network Output:\", np.argmax(np.squeeze(output), axis=1)\n",
    "print \"Ground Truth:  \", np.argmax(images.labels, axis=1)"
   ]
  },
  {
   "cell_type": "markdown",
   "metadata": {
    "deletable": true,
    "editable": true
   },
   "source": [
    "Optional parameters for 'run_network()':\n",
    "* batch_size: Tensorflow can process multiple images simultaneously. However, attempting to load too many images into the network simultaneously leads to a memory bottleneck and drastically slows down operation. Instead, images are loaded into batches (default size: 1000) and batches are then processed in sequence. The optimal batch size may be very system dependent so if you experience unexpected slowdowns when increasing the number of input images, play around with this number.\n",
    "\n",
    "The package also supports running a network on input images of a different size than the images trained on. This can be useful for segmentation if the network is trained on small segments (e.g. foreground/background) of full images. To apply the network to a different image size, the DNN object must be instantiated again with a different *img_dims* argument. For example, let us construct an artificial image from four training images: "
   ]
  },
  {
   "cell_type": "code",
   "execution_count": 18,
   "metadata": {
    "collapsed": false,
    "deletable": true,
    "editable": true
   },
   "outputs": [
    {
     "name": "stdout",
     "output_type": "stream",
     "text": [
      "Big Image shape: (1, 50, 50, 1)\n"
     ]
    },
    {
     "data": {
      "text/plain": [
       "<matplotlib.image.AxesImage at 0x116990890>"
      ]
     },
     "execution_count": 18,
     "metadata": {},
     "output_type": "execute_result"
    },
    {
     "data": {
      "image/png": "[encoded data removed]",
      "text/plain": [
       "<matplotlib.figure.Figure at 0x104fad050>"
      ]
     },
     "metadata": {},
     "output_type": "display_data"
    }
   ],
   "source": [
    "images = img_handler.get_images(\"test\", 0, 3)\n",
    "big_image = np.concatenate(\n",
    "    (np.concatenate((images.imgs[0], images.imgs[1]), axis=0),\n",
    "     np.concatenate((images.imgs[2], images.imgs[3]), axis=0)),\n",
    "    axis=1)\n",
    "big_image = np.expand_dims(big_image, axis=0)\n",
    "print \"Big Image shape:\", big_image.shape\n",
    "\n",
    "plt.imshow(big_image[0, :, :, 0])"
   ]
  },
  {
   "cell_type": "markdown",
   "metadata": {
    "deletable": true,
    "editable": true
   },
   "source": [
    "Then initialize the network and run the output:"
   ]
  },
  {
   "cell_type": "code",
   "execution_count": 19,
   "metadata": {
    "collapsed": false,
    "deletable": true,
    "editable": true
   },
   "outputs": [
    {
     "data": {
      "text/plain": [
       "<matplotlib.image.AxesImage at 0x13607b210>"
      ]
     },
     "execution_count": 19,
     "metadata": {},
     "output_type": "execute_result"
    },
    {
     "data": {
      "image/png": "[encoded data removed]",
      "text/plain": [
       "<matplotlib.figure.Figure at 0x1088c0490>"
      ]
     },
     "metadata": {},
     "output_type": "display_data"
    }
   ],
   "source": [
    "# Use the same weights as above\n",
    "trainer = DNNSwift.DNN(\n",
    "    img_dims=(50, 50, 1), \n",
    "    labels=img_handler.get_image_groups(), \n",
    "    layer_params=dnn_layout, \n",
    "    basedir=\"dnn_output\",\n",
    "    weights=weights)\n",
    "\n",
    "output = trainer.run_network(input_images=big_image)\n",
    "output_argmax = np.squeeze(np.argmax(output, axis=3))\n",
    "plt.imshow(output_argmax)"
   ]
  },
  {
   "cell_type": "markdown",
   "metadata": {
    "deletable": true,
    "editable": true
   },
   "source": [
    "The output is no longer a single probability vector but a map of probabilities (shown here are only the predicted classes). This corresponds to a segmentation map of the input image. Note that this example is a terrible segmentation because the network was not trained to recognize backgrounds, i.e. it expects each pixel to be either a circle or a square.\n",
    "\n",
    "Due to the pooling layers and the padding at the edges of convolutions, the output map is smaller than the input image. I have found that if the number of pooling layers is kept small, simply resizing the output map to the original size gives acceptable results. Future versions of tensorflow will contain unpooling layers that will be integrated into the package.\n",
    "\n",
    "Note that by passing an explicit set of weights to the DNN object, the fully connected layer logic (of reducing the feature map to a single value) is effectively bypassed, making it possible to flexibly use this package for segmentation and classification simultaneously."
   ]
  }
 ],
 "metadata": {
  "kernelspec": {
   "display_name": "Python 2",
   "language": "python",
   "name": "python2"
  },
  "language_info": {
   "codemirror_mode": {
    "name": "ipython",
    "version": 2
   },
   "file_extension": ".py",
   "mimetype": "text/x-python",
   "name": "python",
   "nbconvert_exporter": "python",
   "pygments_lexer": "ipython2",
   "version": "2.7.12"
  }
 },
 "nbformat": 4,
 "nbformat_minor": 2
}
